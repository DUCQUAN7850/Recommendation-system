{
 "cells": [
  {
   "cell_type": "markdown",
   "metadata": {},
   "source": [
    "# Collaborative Filtering example "
   ]
  },
  {
   "cell_type": "code",
   "execution_count": 13,
   "metadata": {},
   "outputs": [],
   "source": [
    "import pandas as pd \n",
    "import numpy as np\n",
    "import matplotlib.pyplot as plt\n",
    "import random\n",
    "from sklearn.metrics.pairwise import cosine_similarity\n",
    "from scipy import sparse \n",
    "class CF(object):\n",
    "    #     hàm khởi tạo\n",
    "    def __init__(self, Y_data, k, dist_func = cosine_similarity, uuCF = 1):\n",
    "        #  dist_func là hàm đo độ tương tự giữa 2 vecto\n",
    "        # uuCF =1 thì xét user base, 0 thì xét item base\n",
    "        self.uuCF = uuCF\n",
    "        self.Y_data = Y_data if uuCF else Y_data[:, [1, 0, 2]]\n",
    "        self.k = k\n",
    "        self.dist_func = dist_func\n",
    "        self.Ybar_data = None\n",
    "        self.n_users = int(np.max(self.Y_data[:, 0])) + 1 \n",
    "        self.n_items = int(np.max(self.Y_data[:, 1])) + 1\n",
    "#  chuyển thành ma trận normalize\n",
    "    def normalize_Y(self):\n",
    "        users = self.Y_data[:, 0]\n",
    "        self.Ybar_data = self.Y_data.copy()\n",
    "        self.mu = np.zeros((self.n_users,))\n",
    "        for n in range(self.n_users):\n",
    "            ids = np.where(users == n)[0].astype(np.int32)\n",
    "            item_ids = self.Y_data[ids, 1] \n",
    "            ratings = self.Y_data[ids, 2]\n",
    "            m = np.mean(ratings) \n",
    "            if np.isnan(m):\n",
    "                m = 0 \n",
    "            self.mu[n] = m\n",
    "            self.Ybar_data[ids, 2] = ratings - self.mu[n]\n",
    "        self.Ybar = sparse.coo_matrix((self.Ybar_data[:, 2],\n",
    "            (self.Ybar_data[:, 1], self.Ybar_data[:, 0])), (self.n_items, self.n_users))\n",
    "        self.Ybar = self.Ybar.tocsr() \n",
    "    def similarity(self):\n",
    "        eps = 1e-6\n",
    "        self.S = self.dist_func(self.Ybar.T, self.Ybar.T)\n",
    "        return self.S\n",
    "    #lấy ra 10 user có độ tương đồng lớn nhất với user u\n",
    "    def top10sim(self,u):\n",
    "        simu=[]\n",
    "        for i in range(0,len(self.similarity()[0])):\n",
    "            simu.append(self.similarity()[u][i])\n",
    "            \n",
    "        ma=[] #lưu 10 user có sim cao nhất\n",
    "        while (len(ma)<10):\n",
    "            a=0 #biến lưu sim\n",
    "            m=simu[0] # lưu phần tử có sim cao nhất\n",
    "            index=0\n",
    "            for i in range(0, len(simu)):\n",
    "                if simu[i]>a and i!=u:\n",
    "                    m=simu[i]\n",
    "                    a=simu[i]\n",
    "                    index=i\n",
    "                    s=str(index)+\" \"+str(m)\n",
    "            ma.append(s)\n",
    "            del simu[index]\n",
    "        return ma \n",
    "        \n",
    "    def refresh(self):\n",
    "        self.normalize_Y()\n",
    "        self.similarity() \n",
    "    def fit(self):\n",
    "        self.refresh()\n",
    "        \n",
    "#     du doan rating ma user u cho film i\n",
    "    def __pred(self, u, i, normalized = 1):\n",
    "        ids = np.where(self.Y_data[:, 1] == i)[0].astype(np.int32)\n",
    "        users_rated_i = (self.Y_data[ids, 0]).astype(np.int32)\n",
    "        sim = self.S[u, users_rated_i]\n",
    "        a = np.argsort(sim)[-self.k:] \n",
    "        nearest_s = sim[a]\n",
    "        r = self.Ybar[i, users_rated_i[a]]\n",
    "        if normalized:\n",
    "            return (r*nearest_s)[0]/(np.abs(nearest_s).sum() + 1e-8)\n",
    "        return (r*nearest_s)[0]/(np.abs(nearest_s).sum() + 1e-8) + self.mu[u]\n",
    "    def pred(self, u, i, normalized = 1):\n",
    "        if self.uuCF: return self.__pred(u, i, normalized)\n",
    "        return self.__pred(i, u, normalized)\n",
    "    \n",
    "#     lay ra bo phim ma user u co the thich nhat va rating du doan\n",
    "    def recommend(self, u):\n",
    "        ids = np.where(self.Y_data[:, 0] == u)[0]\n",
    "        items_rated_by_u = self.Y_data[ids, 1].tolist()              \n",
    "        recommended_items = []\n",
    "        for i in range(self.n_items):\n",
    "            if i not in items_rated_by_u:\n",
    "                rating = self.pred(u, i)\n",
    "                if rating > 0:\n",
    "                    a= i,rating\n",
    "                    recommended_items.append(a)\n",
    "        ma=[] #lưu 10 film có rate được dự đoán cao nhất\n",
    "        while (len(ma)<10):\n",
    "            a=0 #biến lưu rating\n",
    "            m=recommended_items[0] # lưu phần tử có rating cao nhất\n",
    "            index=0\n",
    "            for i in range(0, len(recommended_items)):\n",
    "                if recommended_items[i][1]>a:\n",
    "                    m=recommended_items[i]\n",
    "                    a=recommended_items[i][1]\n",
    "                    index=i\n",
    "            ma.append(m)\n",
    "            del recommended_items[index]\n",
    "        return ma \n",
    "    \n",
    "#     def print_recommendation(self,k):\n",
    "#         recommended_items = self.recommend(k)\n",
    "#         print ('Recommend film:', recommended_items, 'for user', k)"
   ]
  },
  {
   "cell_type": "code",
   "execution_count": 14,
   "metadata": {},
   "outputs": [],
   "source": [
    "                                #chia file train (ub.base) thành 2 file 70% và 30% độ lớn\n",
    "# f_to_split = \"ml-100k/ub.base\"\n",
    " \n",
    "# ltotal = len(open(f_to_split, 'rb').read())\n",
    "# lim_70 = int(ltotal * .70)\n",
    "# if lim_70 < 1: lim_70=1\n",
    "# lim_30 = int(ltotal * .30)\n",
    "# if lim_30 < 1: lim_30=1\n",
    "# lim_70_count = 0\n",
    "# lim_30_count = 0\n",
    " \n",
    "# fin = open(f_to_split, 'rb')\n",
    "# f70out = open(\"70f.base\", 'wb')\n",
    "# f30out = open(\"30f.base\", 'wb')\n",
    "# for line in fin:\n",
    "#     r = random.random()\n",
    "#     if r < 0.70 and lim_70_count < lim_70 or r >= 0.70 and lim_30_count > lim_30:\n",
    "#         lim_70_count += 1\n",
    "#         f70out.write(line)\n",
    "#     else:\n",
    "#         lim_30_count += 1\n",
    "#         f30out.write(line)"
   ]
  },
  {
   "cell_type": "code",
   "execution_count": 15,
   "metadata": {},
   "outputs": [
    {
     "data": {
      "text/plain": [
       "['33 0.22645540682891918',\n",
       " '650 0.20965696734438366',\n",
       " '612 0.18531232916527532',\n",
       " '195 0.16248558255167678',\n",
       " '132 0.16012815380508716',\n",
       " '422 0.16012815380508716',\n",
       " '852 0.16012815380508716',\n",
       " '385 0.15504341823651058',\n",
       " '292 0.15408338784034142',\n",
       " '453 0.15384615384615385']"
      ]
     },
     "execution_count": 15,
     "metadata": {},
     "output_type": "execute_result"
    }
   ],
   "source": [
    "#đọc 2 file mà mình vừa chia để thao tác\n",
    "r_cols = ['user_id', 'movie_id', 'rating', 'unix_timestamp']\n",
    "\n",
    "ratings_base = pd.read_csv('70f.base', sep='\\t', names=r_cols, encoding='latin-1')\n",
    "ratings_test = pd.read_csv('30f.base', sep='\\t', names=r_cols, encoding='latin-1')\n",
    "\n",
    "rate_train = ratings_base.as_matrix()\n",
    "rate_test = ratings_test.as_matrix()\n",
    "\n",
    "rate_train[:, :2] -= 1\n",
    "rate_test[:, :2] -= 1\n",
    "Y_data = ratings_base.as_matrix()\n",
    "rs = CF(Y_data, k = 10,uuCF = 1)\n",
    "rs.fit()\n",
    "\n",
    "rs.top10sim(5)"
   ]
  },
  {
   "cell_type": "code",
   "execution_count": 16,
   "metadata": {},
   "outputs": [
    {
     "name": "stdout",
     "output_type": "stream",
     "text": [
      "21\n"
     ]
    },
    {
     "data": {
      "image/png": "[encoded data removed]",
      "text/plain": [
       "<Figure size 432x288 with 1 Axes>"
      ]
     },
     "metadata": {},
     "output_type": "display_data"
    }
   ],
   "source": [
    "# show giá trị RMSE với các giá trị k\n",
    "i=1\n",
    "min=1\n",
    "index=0\n",
    "while(i<500):\n",
    "    rs = CF(rate_train, k = i, uuCF = 1)\n",
    "    rs.fit()\n",
    "    n_tests = rate_test.shape[0]\n",
    "    SE = 0 \n",
    "    for n in range(n_tests):\n",
    "        pred = rs.pred(rate_test[n, 0], rate_test[n, 1], normalized = 0)\n",
    "        SE += (pred - rate_test[n, 2])**2\n",
    "    RMSE = np.sqrt(SE/n_tests)\n",
    "    if RMSE<min:\n",
    "        index=i\n",
    "        min=RMSE\n",
    "    plt.ylabel('RMSE')\n",
    "    plt.xlabel('k')\n",
    "    plt.plot(i,RMSE,'ro-')\n",
    "    i +=5\n",
    "print(index)\n",
    "plt.show()"
   ]
  },
  {
   "cell_type": "code",
   "execution_count": 19,
   "metadata": {},
   "outputs": [
    {
     "name": "stdout",
     "output_type": "stream",
     "text": [
      "User - User, RMSE = 1.0110503061973217\n"
     ]
    }
   ],
   "source": [
    "#thực hiện kiểm tra với file test\n",
    "r_cols = ['user_id', 'movie_id', 'rating', 'unix_timestamp']\n",
    "\n",
    "ratings_base = pd.read_csv('ml-100k/ub.base', sep='\\t', names=r_cols, encoding='latin-1')\n",
    "ratings_test = pd.read_csv('ml-100k/ub.test', sep='\\t', names=r_cols, encoding='latin-1')\n",
    "\n",
    "rate_train = ratings_base.as_matrix()\n",
    "rate_test = ratings_test.as_matrix()\n",
    "\n",
    "rate_train[:, :2] -= 1\n",
    "rate_test[:, :2] -= 1\n",
    "Y_data = ratings_base.as_matrix()\n",
    "rs = CF(Y_data, k = 21,uuCF = 1)\n",
    "rs.fit()\n",
    "# rs.top10sim(5)\n",
    "print ('User - User, RMSE =', RMSE)"
   ]
  },
  {
   "cell_type": "code",
   "execution_count": 20,
   "metadata": {},
   "outputs": [
    {
     "name": "stderr",
     "output_type": "stream",
     "text": [
      "c:\\users\\duc quan\\appdata\\local\\programs\\python\\python36-32\\lib\\site-packages\\numpy\\core\\fromnumeric.py:2957: RuntimeWarning: Mean of empty slice.\n",
      "  out=out, **kwargs)\n",
      "c:\\users\\duc quan\\appdata\\local\\programs\\python\\python36-32\\lib\\site-packages\\numpy\\core\\_methods.py:80: RuntimeWarning: invalid value encountered in double_scalars\n",
      "  ret = ret.dtype.type(ret / rcount)\n"
     ]
    },
    {
     "name": "stdout",
     "output_type": "stream",
     "text": [
      "item-item CF, RMSE = 1.0110503061973217\n"
     ]
    }
   ],
   "source": [
    "#kết quả với item base\n",
    "rs = CF(rate_train, k = i, uuCF = 1)\n",
    "rs.fit()\n",
    "n_tests = rate_test.shape[0]\n",
    "SE = 0 # squared error\n",
    "for n in range(n_tests):\n",
    "    pred = rs.pred(rate_test[n, 0], rate_test[n, 1], normalized = 0)\n",
    "    SE += (pred - rate_test[n, 2])**2\n",
    "RMSE = np.sqrt(SE/n_tests)\n",
    "rs = CF(Y_data, k = 21, uuCF = 0)\n",
    "rs.fit()\n",
    "print ('item-item CF, RMSE =', RMSE)"
   ]
  },
  {
   "cell_type": "code",
   "execution_count": null,
   "metadata": {},
   "outputs": [],
   "source": []
  }
 ],
 "metadata": {
  "kernelspec": {
   "display_name": "Python 3",
   "language": "python",
   "name": "python3"
  },
  "language_info": {
   "codemirror_mode": {
    "name": "ipython",
    "version": 3
   },
   "file_extension": ".py",
   "mimetype": "text/x-python",
   "name": "python",
   "nbconvert_exporter": "python",
   "pygments_lexer": "ipython3",
   "version": "3.6.4"
  }
 },
 "nbformat": 4,
 "nbformat_minor": 2
}
